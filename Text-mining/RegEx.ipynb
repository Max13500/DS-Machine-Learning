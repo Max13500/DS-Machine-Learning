{
 "cells": [
  {
   "cell_type": "code",
   "execution_count": 2,
   "id": "c392681e",
   "metadata": {},
   "outputs": [],
   "source": [
    "import re"
   ]
  },
  {
   "cell_type": "markdown",
   "id": "bcffba59",
   "metadata": {},
   "source": [
    "### Exemples  basiques"
   ]
  },
  {
   "cell_type": "code",
   "execution_count": null,
   "id": "9662caf2",
   "metadata": {},
   "outputs": [
    {
     "data": {
      "text/plain": [
       "['A', 'N']"
      ]
     },
     "execution_count": 9,
     "metadata": {},
     "output_type": "execute_result"
    }
   ],
   "source": [
    "# Extraction chaîne brute 'nous'\n",
    "r = re.compile(\"nous\")\n",
    "txt = 'A la maison, nous avons une télévision. Nous sommes heureux'\n",
    "print(r.findall(txt))\n",
    "# Extraction lettres majuscules\n",
    "r = re.compile(r\"[A-Z]\")\n",
    "print(r.findall(txt))"
   ]
  },
  {
   "cell_type": "code",
   "execution_count": 8,
   "id": "70f2e2c6",
   "metadata": {},
   "outputs": [
    {
     "name": "stdout",
     "output_type": "stream",
     "text": [
      "['137', '12']\n",
      "['', '', '', '', '', '', '', '', '', '', '', '', '137', '', '', '', '', '', '', '', '', '', '', '', '', '', '', '', '', '', '', '', '', '', '', '', '', '12', '', '', '', '', '', '', '', '', '', '']\n",
      "['137']\n"
     ]
    }
   ],
   "source": [
    "# Extraction nombres\n",
    "txt = \"J'habite au 137 bd Auguste Blanqui, au 12ème étage\"\n",
    "r = re.compile(\"[0-9]+\")\n",
    "print(r.findall(txt))\n",
    "# Attention : \n",
    "r = re.compile(\"[0-9]*\") \n",
    "print(r.findall(txt))\n",
    "# Extraction nombres avec au moins 3 chiffres\n",
    "r = re.compile(\"[0-9]{3,}\")\n",
    "print(r.findall(txt))"
   ]
  },
  {
   "cell_type": "markdown",
   "id": "a54d91e4",
   "metadata": {},
   "source": [
    "### Raccourcis, métacaractères, groupes de captures"
   ]
  },
  {
   "cell_type": "code",
   "execution_count": 11,
   "id": "9282c0cf",
   "metadata": {},
   "outputs": [
    {
     "data": {
      "text/plain": [
       "['Apparemment', 'étonnamment']"
      ]
     },
     "execution_count": 11,
     "metadata": {},
     "output_type": "execute_result"
    }
   ],
   "source": [
    "txt = \"Apparemment, Philippe n'est chez lui. Mais, étonnamment, il n'est pas en chemin non plus. Il roule vers une autre destination\"\n",
    "# Mots qui finnissent par ment\n",
    "r = re.compile(r\"\\w+ment\")\n",
    "r.findall(txt)"
   ]
  },
  {
   "cell_type": "code",
   "execution_count": null,
   "id": "aac437ef",
   "metadata": {},
   "outputs": [
    {
     "name": "stdout",
     "output_type": "stream",
     "text": [
      "['Georges98@yahoo.com', 'grégoire.richon@apple.com', 'sarkozy@élysée.fr']\n"
     ]
    }
   ],
   "source": [
    "txt = 'Georges98@yahoo.com \\n coucou.com \\n grégoire.richon@apple.com\\n constitution@justice \\n sarkozy@élysée.fr'\n",
    "# Adresses mails :\n",
    "# Avant le @ : suite de caractères alphanumériques pouvant inclure des caractères spéciaux : .,-,?,é,à\n",
    "# le @\n",
    "# Après le @ et avant le . : suite de caractères alphanumériques pouvant inclure des caractères spéciaux : .,-,?,é,à\n",
    "# le .\n",
    "# Après le . : au moins 2 minuscules\n",
    "r = re.compile(r\"[A-Za-z0-9.\\-?éà]+@[A-Za-z0-9.\\-?éà]+\\.[a-z]{2,}\")\n",
    "print(r.findall(txt))"
   ]
  },
  {
   "cell_type": "code",
   "execution_count": 20,
   "id": "ff6e4a1f",
   "metadata": {},
   "outputs": [
    {
     "name": "stdout",
     "output_type": "stream",
     "text": [
      "['https://www.google.com/', 'http://www.safari.fr/data-science']\n",
      "['s', '']\n"
     ]
    }
   ],
   "source": [
    "txt = 'https://www.google.com/ \\n http://www.safari.fr/data-science'\n",
    "# Liens html\n",
    "# http ou https\n",
    "# ://\n",
    "# suite de caractères alphanumériques pouvant inclure des caractères spéciaux : .,-,/\n",
    "r = re.compile(r\"https?://[A-Za-z0-9.\\-/]+\")\n",
    "print(r.findall(txt))\n",
    "\n",
    "# Avec groupe de capture\n",
    "r = re.compile(r\"http(s)?://[A-Za-z0-9.\\-/]+\")\n",
    "print(r.findall(txt))"
   ]
  },
  {
   "cell_type": "code",
   "execution_count": 22,
   "id": "b2066a4d",
   "metadata": {},
   "outputs": [
    {
     "name": "stdout",
     "output_type": "stream",
     "text": [
      "['A', 'a', '8', '1', 'a', 't', 't', 'r', 'a', 'c', 't', 'i', 'o', 'n', 'P', 'o', 't', 'i', 'o', 'n']\n",
      "['a', '1', 'a', 'a', 'c']\n",
      "['A', 'a', '8', '1', 'a', 't', 't', 'r', 'a', 'c', 't', 'i', 'o', 'n', '.', 'P', 'o', 't', 'i', 'o', 'n']\n",
      "[' ', 'a', ' ', '-', ' ', '§', ' ', 'é', ' ', '8', ' ', '1', ' ', 'a', 't', 't', 'r', 'a', 'c', 't', 'i', 'o', 'n', '.', ' ', 'o', 't', 'i', 'o', 'n']\n",
      "['tion']\n",
      "[]\n",
      "['n', 't', 'n']\n"
     ]
    }
   ],
   "source": [
    "txt = 'A a - § é 8 1 attraction. Potion'\n",
    "\n",
    "r = re.compile(r\"[a-zA-Z0-9]\")\n",
    "print(r.findall(txt))\n",
    "# A,a,8,1,a,t,t,r,a,c,t,i,o,n,P,o,t,i,o,n\n",
    "\n",
    "r = re.compile(r\"[abc145]\")\n",
    "print(r.findall(txt))\n",
    "# a,1,a,a,c\n",
    "\n",
    "r = re.compile(r\"[a-zA-Z0-9\\.\\?]\")\n",
    "print(r.findall(txt))\n",
    "# A,a,8,1,a,t,t,r,a,c,t,i,o,n,.,P,o,t,i,o,n\n",
    "\n",
    "r = re.compile(r\"[^A-Z]\")\n",
    "print(r.findall(txt))\n",
    "#  ,a, ,-, ,§, ,é, ,8, ,1, ,a,t,t,r,a,c,t,i,o,n,., ,o,t,i,o,n\n",
    "\n",
    "r = re.compile(r\"tion$\")\n",
    "print(r.findall(txt))\n",
    "# tion\n",
    "\n",
    "r = re.compile(r\"^Po\")\n",
    "print(r.findall(txt))\n",
    "# liste vide\n",
    "\n",
    "r = re.compile(r\"o([a-z])\")\n",
    "print(r.findall(txt))\n",
    "# n,t,n"
   ]
  },
  {
   "cell_type": "markdown",
   "id": "9aa49a53",
   "metadata": {},
   "source": [
    "### Quantificateurs greedy vs lazy"
   ]
  },
  {
   "cell_type": "code",
   "execution_count": 23,
   "id": "13bc54f7",
   "metadata": {},
   "outputs": [
    {
     "name": "stdout",
     "output_type": "stream",
     "text": [
      "['stackoverflo']\n",
      "['stacko']\n"
     ]
    }
   ],
   "source": [
    "# Greedy\n",
    "r1 = re.compile(r\"s.*o\")\n",
    "print(r1.findall('stackoverflow'))\n",
    "# Lazy\n",
    "r2 = re.compile(r\"s.*?o\")\n",
    "print(r2.findall('stackoverflow'))"
   ]
  },
  {
   "cell_type": "code",
   "execution_count": 26,
   "id": "13dca7b2",
   "metadata": {},
   "outputs": [
    {
     "name": "stdout",
     "output_type": "stream",
     "text": [
      "['<html><head><title>Title<\\title>']\n",
      "['<html>', '<head>', '<title>', '<\\title>']\n"
     ]
    }
   ],
   "source": [
    "txt = '<html><head><title>Title<\\title>'\n",
    "# Greedy\n",
    "r = re.compile(r\"<.*>\")\n",
    "print(r.findall(txt))\n",
    "# Lazy\n",
    "r = re.compile(r\"<.*?>\")\n",
    "print(r.findall(txt))"
   ]
  },
  {
   "cell_type": "markdown",
   "id": "fe5fbfe6",
   "metadata": {},
   "source": [
    "### Méthodes usuelles : findall, finditer, match, search"
   ]
  },
  {
   "cell_type": "code",
   "execution_count": 6,
   "id": "651d62df",
   "metadata": {},
   "outputs": [
    {
     "name": "stdout",
     "output_type": "stream",
     "text": [
      "\n",
      "***findall***\n",
      "[('https', 's'), ('http', '')]\n",
      "\n",
      "***finditer***\n",
      "Détection : https://www.google.com/\n",
      "Capture 1er groupe : https\n",
      "Capture 2ème groupe: s\n",
      "Capture tous groupes: ('https', 's')\n",
      "Détection : http://www.safari.fr/data-science\n",
      "Capture 1er groupe : http\n",
      "Capture 2ème groupe: None\n",
      "Capture tous groupes: ('http', None)\n",
      "\n",
      "***match***\n",
      "Détection : https://www.google.com/\n",
      "Capture 1er groupe : https\n",
      "Capture 2ème groupe: s\n",
      "Capture tous groupes: ('https', 's')\n",
      "\n",
      "***search***\n",
      "Détection : http://www.safari.fr/data-science\n",
      "Capture 1er groupe : http\n",
      "Capture 2ème groupe: None\n",
      "Capture tous groupes: ('http', None)\n"
     ]
    }
   ],
   "source": [
    "txt = 'https://www.google.com/ \\n http://www.safari.fr/data-science'\n",
    "r = re.compile(r\"(http(s)?)://[a-zA-z0-9.\\-/]+\")\n",
    "\n",
    "print(\"\\n***findall***\")\n",
    "liens = r.findall(txt)\n",
    "print(liens)\n",
    "\n",
    "print(\"\\n***finditer***\")\n",
    "liens = r.finditer(txt)\n",
    "for lien in liens:\n",
    "    print(\"Détection :\",lien.group(0))\n",
    "    print(\"Capture 1er groupe :\",lien.group(1))\n",
    "    print(\"Capture 2ème groupe:\",lien.group(2))\n",
    "    print(\"Capture tous groupes:\",lien.groups())\n",
    "\n",
    "print(\"\\n***match***\")\n",
    "lien = r.match(txt)\n",
    "print(\"Détection :\",lien.group(0))\n",
    "print(\"Capture 1er groupe :\",lien.group(1))\n",
    "print(\"Capture 2ème groupe:\",lien.group(2))\n",
    "print(\"Capture tous groupes:\",lien.groups())\n",
    "\n",
    "print(\"\\n***search***\")\n",
    "lien = r.search(txt,pos=5)\n",
    "print(\"Détection :\",lien.group(0))\n",
    "print(\"Capture 1er groupe :\",lien.group(1))\n",
    "print(\"Capture 2ème groupe:\",lien.group(2))\n",
    "print(\"Capture tous groupes:\",lien.groups())"
   ]
  },
  {
   "cell_type": "code",
   "execution_count": null,
   "id": "fb15e700",
   "metadata": {},
   "outputs": [
    {
     "name": "stdout",
     "output_type": "stream",
     "text": [
      "Line 13:<a href=\"mailto:mwolf@mg-cc.org\" target=\"_self\" title=\"Click to send an Email\">gdalonzo@mg-cc.org</a> \n",
      "Line 28:<a href=\"mailto:bfritz@mg-cc.org\" target=\"_self\" title=\"Click to send an Email\">bfritz@mg-cc.org</a> \n",
      "Line 43:<a href=\"mailto:alazovitz@mg-cc.org\" target=\"_self\" title=\"Click to send an Email\">alazovitz@mg-cc.org</a> \n",
      "Line 58:<a href=\"mailto:cboyenga@mg-cc.org\" target=\"_self\" title=\"Click to send an Email\">cboyenga@mg-cc.org</a> \n",
      "Line 73:<a href=\"mailto:bdoheny@mg-cc.org\" target=\"_self\" title=\"Click to send an Email\">bdoheny@mg-cc.org</a> \n",
      "Line 88:<a href=\"mailto:mwolf@mg-cc.org\" target=\"_self\" title=\"Click to send an Email\">mwolf@mg-cc.org</a> \n",
      "Line 104:<a href=\"mailto:cgiampa@mg-cc.org\" target=\"_self\" title=\"Click to send an Email\">cgiampa@mg-cc.org</a> \n",
      "Line 122:<a href=\"mailto:DiningManager@mg-cc.org\" target=\"_self\" title=\"Click to send an Email\">DiningManager@mg-cc.org</a> \n",
      "Line 142:<a href=\"mailto:freycc@npenn.org\" target=\"_self\" title=\"Click to send an Email\">freycc@npenn.org</a> \n",
      "Line 164:<a href=\"mailto:selmairobinson@gmail.com\" target=\"_self\" title=\"Click to send an Email\">selmairobinson@gmail.com</a> \n",
      "Line 184:<a href=\"mailto:sfalatek@mg-cc.org\" target=\"_self\" title=\"Click to send an Email\">sfalatek@mg-cc.org</a> \n",
      "Line 206:<a href=\"mailto:kmurphy@mg-cc.org\" target=\"_self\" title=\"Click to send an Email\">kmurphy@mg-cc.org</a> \n",
      "Line 27:<a href=\"tel:+12158863033\" target=\"_self\" title=\"Click to make a Call\">(215) 886-3033</a><br> \n",
      "Line 72:<a href=\"tel:+12672413239\" target=\"_self\" title=\"Click to make a Call\">(267) 241-3239</a><br> \n",
      "Line 163:<a href=\"tel:+12153612926\" target=\"_self\" title=\"Click to make a Call\">(215) 361-2926</a><br>\n"
     ]
    }
   ],
   "source": [
    "# Exemple extrait html\n",
    "data = 'Line 13:<a href=\"mailto:mwolf@mg-cc.org\" target=\"_self\" title=\"Click to send an Email\">gdalonzo@mg-cc.org</a> \\nLine 28:<a href=\"mailto:bfritz@mg-cc.org\" target=\"_self\" title=\"Click to send an Email\">bfritz@mg-cc.org</a> \\nLine 43:<a href=\"mailto:alazovitz@mg-cc.org\" target=\"_self\" title=\"Click to send an Email\">alazovitz@mg-cc.org</a> \\nLine 58:<a href=\"mailto:cboyenga@mg-cc.org\" target=\"_self\" title=\"Click to send an Email\">cboyenga@mg-cc.org</a> \\nLine 73:<a href=\"mailto:bdoheny@mg-cc.org\" target=\"_self\" title=\"Click to send an Email\">bdoheny@mg-cc.org</a> \\nLine 88:<a href=\"mailto:mwolf@mg-cc.org\" target=\"_self\" title=\"Click to send an Email\">mwolf@mg-cc.org</a> \\nLine 104:<a href=\"mailto:cgiampa@mg-cc.org\" target=\"_self\" title=\"Click to send an Email\">cgiampa@mg-cc.org</a> \\nLine 122:<a href=\"mailto:DiningManager@mg-cc.org\" target=\"_self\" title=\"Click to send an Email\">DiningManager@mg-cc.org</a> \\nLine 142:<a href=\"mailto:freycc@npenn.org\" target=\"_self\" title=\"Click to send an Email\">freycc@npenn.org</a> \\nLine 164:<a href=\"mailto:selmairobinson@gmail.com\" target=\"_self\" title=\"Click to send an Email\">selmairobinson@gmail.com</a> \\nLine 184:<a href=\"mailto:sfalatek@mg-cc.org\" target=\"_self\" title=\"Click to send an Email\">sfalatek@mg-cc.org</a> \\nLine 206:<a href=\"mailto:kmurphy@mg-cc.org\" target=\"_self\" title=\"Click to send an Email\">kmurphy@mg-cc.org</a> \\nLine 27:<a href=\"tel:+12158863033\" target=\"_self\" title=\"Click to make a Call\">(215) 886-3033</a><br> \\nLine 72:<a href=\"tel:+12672413239\" target=\"_self\" title=\"Click to make a Call\">(267) 241-3239</a><br> \\nLine 163:<a href=\"tel:+12153612926\" target=\"_self\" title=\"Click to make a Call\">(215) 361-2926</a><br>'\n",
    "print(data)"
   ]
  },
  {
   "cell_type": "code",
   "execution_count": null,
   "id": "db81fd19",
   "metadata": {},
   "outputs": [
    {
     "name": "stdout",
     "output_type": "stream",
     "text": [
      "mwolf@mg-cc.org\n",
      "bfritz@mg-cc.org\n",
      "alazovitz@mg-cc.org\n",
      "cboyenga@mg-cc.org\n",
      "bdoheny@mg-cc.org\n",
      "mwolf@mg-cc.org\n",
      "cgiampa@mg-cc.org\n",
      "DiningManager@mg-cc.org\n",
      "freycc@npenn.org\n",
      "selmairobinson@gmail.com\n",
      "sfalatek@mg-cc.org\n",
      "kmurphy@mg-cc.org\n"
     ]
    }
   ],
   "source": [
    "# Liste des adresses mails\n",
    "r = re.compile(r\"mailto:([a-zA-z0-9\\.\\-@]+)\")\n",
    "liens = r.finditer(data)\n",
    "for lien in liens:\n",
    "    print(lien.group(1))"
   ]
  },
  {
   "cell_type": "code",
   "execution_count": 9,
   "id": "58081471",
   "metadata": {},
   "outputs": [
    {
     "name": "stdout",
     "output_type": "stream",
     "text": [
      "['(215) 886-3033', '(267) 241-3239', '(215) 361-2926']\n"
     ]
    }
   ],
   "source": [
    "# Liste des téléphones\n",
    "# (123) 456-7890\n",
    "r = re.compile(r\"\\([0-9]{3}\\)\\s[0-9]{3}-[0-9]{4}\")\n",
    "print(r.findall(data))"
   ]
  },
  {
   "cell_type": "markdown",
   "id": "ebcdb94b",
   "metadata": {},
   "source": [
    "### Méthodes usuelles : split, sub et verbose"
   ]
  },
  {
   "cell_type": "code",
   "execution_count": null,
   "id": "5cf65887",
   "metadata": {},
   "outputs": [
    {
     "name": "stdout",
     "output_type": "stream",
     "text": [
      "['L', 'exemple', 'parfait', 'pour', 'comprendre']\n",
      "[\"L'exemple\", 'parfait', 'pour', 'comprendre']\n",
      "['L', \"'\", 'exemple', '... ', 'parfait', ' ', 'pour', ' ', 'comprendre']\n"
     ]
    }
   ],
   "source": [
    "# Split\n",
    "txt = \"L'exemple... parfait pour comprendre\"\n",
    "r = re.compile(r\"\\W+\")\n",
    "print(r.split(txt))\n",
    "\n",
    "r = re.compile(r\"[^a-zA-Z0-9_']+\")\n",
    "print(r.split(txt))\n",
    "\n",
    "# Attention : s'il y a des parenthèses, leur contenu est capturé lors du split aussi\n",
    "r = re.compile(r\"(\\W+)\")\n",
    "print(r.split(txt))"
   ]
  },
  {
   "cell_type": "code",
   "execution_count": null,
   "id": "e529656b",
   "metadata": {},
   "outputs": [
    {
     "name": "stdout",
     "output_type": "stream",
     "text": [
      "c'est cool cool comme coolstition\n",
      "c'est cool cool comme superstition\n",
      "c'est cool cool comme coolstition\n",
      "c'est cool cool comme superstition\n",
      "c'est super cool comme coolstition\n"
     ]
    }
   ],
   "source": [
    "# Substitution\n",
    "txt = \"c'est super cool comme superstition\"\n",
    "r = re.compile(r\"super\")\n",
    "print(r.sub('cool', txt))\n",
    "\n",
    "# Recherche super en tant que mot\n",
    "r = re.compile(r\"\\bsuper\\b\")\n",
    "print(r.sub('cool', txt))\n",
    "\n",
    "# Recherche super en début de mot\n",
    "r = re.compile(r\"\\bsuper\")\n",
    "print(r.sub('cool', txt))\n",
    "\n",
    "# Recherche super en fin de mot\n",
    "r = re.compile(r\"super\\b\")\n",
    "print(r.sub('cool', txt))\n",
    "\n",
    "# Recherche super s'il n'est pas en fin de mot\n",
    "r = re.compile(r\"super\\B\")\n",
    "print(r.sub('cool', txt))\n"
   ]
  },
  {
   "cell_type": "code",
   "execution_count": 26,
   "id": "f8b14d5e",
   "metadata": {},
   "outputs": [
    {
     "name": "stdout",
     "output_type": "stream",
     "text": [
      "['g.petoit93@gmail.com', 'oliver.small459@orange.fr', 're@yahoo.fr']\n"
     ]
    }
   ],
   "source": [
    "txt = 'g.petoit93@gmail.com oliver.small459@orange.fr \\n m.lameinère@yahoo.fr'\n",
    "\n",
    "r = re.compile(r\"\"\"\n",
    "\n",
    "   [A-Za-z0-9.\\-?éà]+   #identifiant\n",
    "   @                    #commun à tous les mails\n",
    "   [A-Za-z0-9.\\-?éà]+   #service mail\n",
    "   \\.[a-z]{2,}          #.com, .fr, etc\n",
    "\n",
    "\"\"\", re.VERBOSE)\n",
    "\n",
    "print (r.findall(txt))\n"
   ]
  }
 ],
 "metadata": {
  "kernelspec": {
   "display_name": "env",
   "language": "python",
   "name": "python3"
  },
  "language_info": {
   "codemirror_mode": {
    "name": "ipython",
    "version": 3
   },
   "file_extension": ".py",
   "mimetype": "text/x-python",
   "name": "python",
   "nbconvert_exporter": "python",
   "pygments_lexer": "ipython3",
   "version": "3.12.6"
  }
 },
 "nbformat": 4,
 "nbformat_minor": 5
}
